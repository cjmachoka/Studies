{
 "cells": [
  {
   "cell_type": "markdown",
   "metadata": {},
   "source": [
    "### Challenge 1: Big Sorting"
   ]
  },
  {
   "cell_type": "markdown",
   "metadata": {},
   "source": [
    "##### My Solution 1: Using Quicksort"
   ]
  },
  {
   "cell_type": "code",
   "execution_count": 183,
   "metadata": {},
   "outputs": [],
   "source": [
    "def bigSorting(unsorted):\n",
    "    \n",
    "    # Write your code here \n",
    "    i = 0\n",
    "\n",
    "    if len(unsorted) <= 1:\n",
    "        if not isinstance(unsorted, int):\n",
    "            return unsorted\n",
    "    \n",
    "    for j in range (1, len(unsorted)):\n",
    "        if int(unsorted[j]) < int(unsorted[0]):\n",
    "            i = i+1\n",
    "            unsorted[i],unsorted[j] = unsorted[j], unsorted[i]\n",
    "    \n",
    "    unsorted[0], unsorted[i] = unsorted[i], unsorted[0]\n",
    "\n",
    "    return bigSorting(unsorted[:i]) + [unsorted[i]] + bigSorting(unsorted[i+1:])"
   ]
  },
  {
   "cell_type": "code",
   "execution_count": 184,
   "metadata": {},
   "outputs": [
    {
     "data": {
      "text/plain": [
       "['1', '3', '3', '5', 6, '10', '31415926535897932384626433832795']"
      ]
     },
     "execution_count": 184,
     "metadata": {},
     "output_type": "execute_result"
    }
   ],
   "source": [
    "a = [6, '31415926535897932384626433832795', '1', '3', '10', '3', '5']\n",
    "bigSorting(a)"
   ]
  },
  {
   "cell_type": "markdown",
   "metadata": {},
   "source": [
    "Failed Test Cases #3, #4, #5, and #6. Passed all the rest between #0 and #8."
   ]
  },
  {
   "cell_type": "markdown",
   "metadata": {},
   "source": [
    "#### My Solution 2: Using Merge Sort"
   ]
  },
  {
   "cell_type": "code",
   "execution_count": 6,
   "metadata": {},
   "outputs": [],
   "source": [
    "def mergeSorting(unsorted):\n",
    "    # Write your code here'\n",
    "\n",
    "    if len(unsorted) == 1:\n",
    "        if not isinstance(unsorted, int):\n",
    "            return unsorted\n",
    "        \n",
    "    midpoint = len(unsorted)//2\n",
    "    a = mergeSorting(unsorted[:midpoint])\n",
    "    b = mergeSorting(unsorted[midpoint:])\n",
    "\n",
    "    merge_list = []\n",
    "    \n",
    "    while len(a) > 0 and len(b) > 0:\n",
    "        if int(a[0]) < int(b[0]):\n",
    "            merge_list.append(a[0])\n",
    "            a.remove(a[0])\n",
    "        else:\n",
    "            merge_list.append(b[0])\n",
    "            b.remove(b[0])\n",
    "\n",
    "    while len(a) > 0:\n",
    "        merge_list.append(a[0])\n",
    "        a.remove(a[0])\n",
    "\n",
    "    while len(b) > 0:\n",
    "        merge_list.append(b[0])\n",
    "        b.remove(b[0])\n",
    "    \n",
    "    return merge_list"
   ]
  },
  {
   "cell_type": "code",
   "execution_count": 7,
   "metadata": {},
   "outputs": [
    {
     "data": {
      "text/plain": [
       "['1', '3', '3', '5', 6, '9', '10', '31415926535897932384626433832795']"
      ]
     },
     "execution_count": 7,
     "metadata": {},
     "output_type": "execute_result"
    }
   ],
   "source": [
    "a = [6, '31415926535897932384626433832795', '1', '3', '10', '3', '5', '9']\n",
    "mergeSorting(a)"
   ]
  },
  {
   "cell_type": "markdown",
   "metadata": {},
   "source": [
    "Failed Test Cases #3, #4, #5, and #6. Passed all the rest between #0 and #8."
   ]
  },
  {
   "cell_type": "markdown",
   "metadata": {},
   "source": [
    "### Challenge 2: Group Anagram"
   ]
  },
  {
   "cell_type": "markdown",
   "metadata": {},
   "source": [
    "#### My Solution 1"
   ]
  },
  {
   "cell_type": "code",
   "execution_count": 4,
   "metadata": {},
   "outputs": [],
   "source": [
    "def anagram(strs):\n",
    "    \n",
    "    word_list = [\" \".join(sorted(word))for word in strs]\n",
    "    unique_list = list(set(word_list))\n",
    "\n",
    "    group_list = []\n",
    "    merged_list = []\n",
    "\n",
    "    for unique_word in unique_list:\n",
    "        for i in range(len(word_list)):\n",
    "            if word_list[i] == unique_word:\n",
    "                group_list.append(strs[i])\n",
    "        merged_list.append(group_list)\n",
    "        group_list = []\n",
    "\n",
    "    return merged_list"
   ]
  },
  {
   "cell_type": "markdown",
   "metadata": {},
   "source": [
    "No output for function. Dan (Walobwa) said the function has a problem. It will be updated."
   ]
  },
  {
   "cell_type": "markdown",
   "metadata": {},
   "source": [
    "### Challenge 3: Sherlock and Array"
   ]
  },
  {
   "cell_type": "markdown",
   "metadata": {},
   "source": [
    "- Have the right-sided sum of array at any index\n",
    "- Have the left-side sum of array when moving up array\n",
    "    For the range of the length of array:\n",
    "    - Substract the value of current index to obtain right-side sum\n",
    "    - If left and right sums are equal\n",
    "        - Return Yes\n",
    "    - Add value of index to left sum to obtain left-sided sum for use in next iteration"
   ]
  },
  {
   "cell_type": "code",
   "execution_count": 8,
   "metadata": {},
   "outputs": [],
   "source": [
    "def balancedSums2(arr):\n",
    "    left = 0\n",
    "    right = sum(arr)\n",
    "    for i in range(len(arr)):\n",
    "        right -= arr[i]\n",
    "        if left == right:\n",
    "            return 'YES'  \n",
    "        left += arr[i]\n",
    "    return 'NO'"
   ]
  },
  {
   "cell_type": "markdown",
   "metadata": {},
   "source": [
    "Passed all test cases"
   ]
  },
  {
   "cell_type": "markdown",
   "metadata": {},
   "source": []
  }
 ],
 "metadata": {
  "kernelspec": {
   "display_name": "exploreME_env",
   "language": "python",
   "name": "python3"
  },
  "language_info": {
   "codemirror_mode": {
    "name": "ipython",
    "version": 3
   },
   "file_extension": ".py",
   "mimetype": "text/x-python",
   "name": "python",
   "nbconvert_exporter": "python",
   "pygments_lexer": "ipython3",
   "version": "3.12.2"
  }
 },
 "nbformat": 4,
 "nbformat_minor": 2
}
